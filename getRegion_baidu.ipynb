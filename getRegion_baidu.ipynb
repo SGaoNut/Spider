{
 "cells": [
  {
   "cell_type": "code",
   "execution_count": 1,
   "metadata": {
    "collapsed": true
   },
   "outputs": [],
   "source": [
    "import requests\n",
    "import json\n",
    "import re\n",
    "import pandas as pd\n",
    "\n",
    "\n",
    "# --------------------------------------------- #\n",
    "#   定义从百度地图获取区域边界点经纬度的函数       #\n",
    "# --------------------------------------------- #\n",
    "def getRegion_baidu(keyword):\n",
    "    # 获取uid的网址格式\n",
    "    uidUrl = \"http://map.baidu.com/su?wd={}&cid=289&type=0&pc_ver=2\"\n",
    "    # 通过格式化函数得到网址，并进行抓取\n",
    "    r_uid = requests.get(uidUrl.format(keyword), headers={'user-agent': 'Mozilla/5.0'})\n",
    "    # 编码转换\n",
    "    r_uid.encoding = 'utf-8'\n",
    "    # 使用正则表达式提取内容\n",
    "    uids = re.findall('[a-zA-Z0-9]{24}', r_uid.text)\n",
    "    # 用来保存区域边缘的点的经纬度\n",
    "    lat_lng = []\n",
    "    # 循环每一个子区域\n",
    "    for uid in uids:\n",
    "        # 把网页上的数据抓取到本地\n",
    "        poinstUrl = 'http://map.baidu.com/?pcevaname=pc4.1&qt=ext&uid={}&ext_ver=new&l=12'\n",
    "        r_point = requests.get(poinstUrl.format(uid), headers={'user-agent': 'Mozilla/5.0'})\n",
    "        r_point.encoding = 'ascii'\n",
    "        # 转换为python字典类型\n",
    "        jd = json.loads(r_point.text)\n",
    "        # 使用正则表达式进行提取\n",
    "        points = re.findall('[0-9]{8}.[0-9]+,[0-9]{7}.[0-9]+', jd['content']['geo'])\n",
    "        sub_lat_lng = []\n",
    "        # 将中间都逗号去掉\n",
    "        for str in points:\n",
    "            # 将经纬度分开，并得到实际的经纬度\n",
    "            temp = str.split(',')\n",
    "            temp[0] = round(float(temp[0]) / 100000, 6)\n",
    "            temp[1] = round(float(temp[1]) / 100000, 6)\n",
    "            sub_lat_lng.append(temp)\n",
    "            # 转换成dataframe\n",
    "        lat_lng.append(sub_lat_lng)\n",
    "        df = pd.DataFrame(lat_lng[0], columns=['longitude', 'latitude'])\n",
    "        df['name'] = keyword\n",
    "        # 返回结果\n",
    "    return df"
   ]
  },
  {
   "cell_type": "code",
   "execution_count": 2,
   "metadata": {},
   "outputs": [
    {
     "ename": "KeyError",
     "evalue": "'geo'",
     "traceback": [
      "\u001b[0;31m---------------------------------------------------------------------------\u001b[0m",
      "\u001b[0;31mKeyError\u001b[0m                                  Traceback (most recent call last)",
      "\u001b[0;32m<ipython-input-2-4504ec0fe1fd>\u001b[0m in \u001b[0;36m<module>\u001b[0;34m()\u001b[0m\n\u001b[0;32m----> 1\u001b[0;31m \u001b[0mgetRegion_baidu\u001b[0m\u001b[0;34m(\u001b[0m\u001b[0;34m'华南农业大学'\u001b[0m\u001b[0;34m)\u001b[0m\u001b[0;34m.\u001b[0m\u001b[0mhead\u001b[0m\u001b[0;34m(\u001b[0m\u001b[0;34m)\u001b[0m\u001b[0;34m\u001b[0m\u001b[0m\n\u001b[0m",
      "\u001b[0;32m<ipython-input-1-2b1bc887dd3b>\u001b[0m in \u001b[0;36mgetRegion_baidu\u001b[0;34m(keyword)\u001b[0m\n\u001b[1;32m     28\u001b[0m         \u001b[0mjd\u001b[0m \u001b[0;34m=\u001b[0m \u001b[0mjson\u001b[0m\u001b[0;34m.\u001b[0m\u001b[0mloads\u001b[0m\u001b[0;34m(\u001b[0m\u001b[0mr_point\u001b[0m\u001b[0;34m.\u001b[0m\u001b[0mtext\u001b[0m\u001b[0;34m)\u001b[0m\u001b[0;34m\u001b[0m\u001b[0m\n\u001b[1;32m     29\u001b[0m         \u001b[0;31m# 使用正则表达式进行提取\u001b[0m\u001b[0;34m\u001b[0m\u001b[0;34m\u001b[0m\u001b[0m\n\u001b[0;32m---> 30\u001b[0;31m         \u001b[0mpoints\u001b[0m \u001b[0;34m=\u001b[0m \u001b[0mre\u001b[0m\u001b[0;34m.\u001b[0m\u001b[0mfindall\u001b[0m\u001b[0;34m(\u001b[0m\u001b[0;34m'[0-9]{8}.[0-9]+,[0-9]{7}.[0-9]+'\u001b[0m\u001b[0;34m,\u001b[0m \u001b[0mjd\u001b[0m\u001b[0;34m[\u001b[0m\u001b[0;34m'content'\u001b[0m\u001b[0;34m]\u001b[0m\u001b[0;34m[\u001b[0m\u001b[0;34m'geo'\u001b[0m\u001b[0;34m]\u001b[0m\u001b[0;34m)\u001b[0m\u001b[0;34m\u001b[0m\u001b[0m\n\u001b[0m\u001b[1;32m     31\u001b[0m         \u001b[0msub_lat_lng\u001b[0m \u001b[0;34m=\u001b[0m \u001b[0;34m[\u001b[0m\u001b[0;34m]\u001b[0m\u001b[0;34m\u001b[0m\u001b[0m\n\u001b[1;32m     32\u001b[0m         \u001b[0;31m# 将中间都逗号去掉\u001b[0m\u001b[0;34m\u001b[0m\u001b[0;34m\u001b[0m\u001b[0m\n",
      "\u001b[0;31mKeyError\u001b[0m: 'geo'"
     ],
     "output_type": "error"
    }
   ],
   "source": [
    "getRegion_baidu('华南农业大学').head()"
   ]
  },
  {
   "cell_type": "code",
   "execution_count": null,
   "metadata": {},
   "outputs": [],
   "source": []
  }
 ],
 "metadata": {
  "kernelspec": {
   "display_name": "Python 2",
   "language": "python",
   "name": "python2"
  },
  "language_info": {
   "codemirror_mode": {
    "name": "ipython",
    "version": 2
   },
   "file_extension": ".py",
   "mimetype": "text/x-python",
   "name": "python",
   "nbconvert_exporter": "python",
   "pygments_lexer": "ipython2",
   "version": "2.7.6"
  }
 },
 "nbformat": 4,
 "nbformat_minor": 0
}
